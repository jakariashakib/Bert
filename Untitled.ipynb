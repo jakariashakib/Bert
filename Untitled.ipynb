{
 "cells": [
  {
   "cell_type": "code",
   "execution_count": 1,
   "id": "0602e464",
   "metadata": {
    "ExecuteTime": {
     "end_time": "2022-01-25T06:29:20.258826Z",
     "start_time": "2022-01-25T06:28:16.980496Z"
    }
   },
   "outputs": [],
   "source": [
    "import numpy as np\n",
    "import tensorflow as tf\n",
    "import ktrain\n",
    "import pandas as pd\n",
    "from ktrain import text"
   ]
  },
  {
   "cell_type": "code",
   "execution_count": 2,
   "id": "0848f8db",
   "metadata": {
    "ExecuteTime": {
     "end_time": "2022-01-25T06:29:27.618553Z",
     "start_time": "2022-01-25T06:29:20.260400Z"
    }
   },
   "outputs": [],
   "source": [
    "df = pd.read_excel('train.xlsx', dtype=str)\n",
    "df = df[:1000]"
   ]
  },
  {
   "cell_type": "code",
   "execution_count": 3,
   "id": "33810a86",
   "metadata": {
    "ExecuteTime": {
     "end_time": "2022-01-25T06:29:27.634546Z",
     "start_time": "2022-01-25T06:29:27.620554Z"
    },
    "code_folding": []
   },
   "outputs": [],
   "source": [
    "def clean_text(text):\n",
    "    import re\n",
    "    import string\n",
    "    \n",
    "    text = str(text).lower()\n",
    "    text = re.sub('\\[.*?\\]', '', text)\n",
    "    text = re.sub('https?://\\S+|www\\.\\S+', '', text)\n",
    "    text = re.sub('<.*?>+', '', text)\n",
    "    text = re.sub('[%s]' % re.escape(string.punctuation), '', text)\n",
    "    text = re.sub('\\n', '', text)\n",
    "    text = re.sub('\\w*\\d\\w*', '', text)\n",
    "    return text"
   ]
  },
  {
   "cell_type": "code",
   "execution_count": 4,
   "id": "e18edee3",
   "metadata": {
    "ExecuteTime": {
     "end_time": "2022-01-25T06:29:28.178585Z",
     "start_time": "2022-01-25T06:29:27.636545Z"
    },
    "code_folding": []
   },
   "outputs": [],
   "source": [
    "def preprocess_data(text):\n",
    "    import nltk\n",
    "    from nltk.corpus import stopwords\n",
    "    \n",
    "    stop_words = stopwords.words('english')\n",
    "    stemmer    = nltk.SnowballStemmer(\"english\")\n",
    "    \n",
    "    text = clean_text(text)                                                     \n",
    "    text = ' '.join(word for word in text.split() if word not in stop_words)\n",
    "    text = ' '.join(stemmer.stem(word) for word in text.split())               \n",
    "    return text"
   ]
  },
  {
   "cell_type": "code",
   "execution_count": 5,
   "id": "f01ae32b",
   "metadata": {
    "ExecuteTime": {
     "end_time": "2022-01-25T06:29:34.942367Z",
     "start_time": "2022-01-25T06:29:28.184588Z"
    }
   },
   "outputs": [
    {
     "data": {
      "text/plain": [
       "0      first tune morn news thought wow final enterta...\n",
       "1      mere thought go overboard aka babe ahoy make w...\n",
       "2      movi fall well standard ultim answer lie poor ...\n",
       "3      wow thought steven segal movi bad everi time t...\n",
       "4      stori seen matter figur make proper storyboard...\n",
       "                             ...                        \n",
       "995    fortun us real mccoy fan like babi boomer grew...\n",
       "996    mechenoset one beauti romant movi ive ever see...\n",
       "997    film never receiv attent deserv although one f...\n",
       "998    absolut love tom robbin book excit interest se...\n",
       "999    arguabl john thaw finest perform success shake...\n",
       "Name: Reviews, Length: 1000, dtype: object"
      ]
     },
     "execution_count": 5,
     "metadata": {},
     "output_type": "execute_result"
    }
   ],
   "source": [
    "df['Reviews'].apply(preprocess_data)"
   ]
  },
  {
   "cell_type": "markdown",
   "id": "52da1dd0",
   "metadata": {},
   "source": [
    "## Test"
   ]
  },
  {
   "cell_type": "code",
   "execution_count": 6,
   "id": "19f10826",
   "metadata": {
    "ExecuteTime": {
     "end_time": "2022-01-25T06:29:39.803583Z",
     "start_time": "2022-01-25T06:29:34.945366Z"
    }
   },
   "outputs": [
    {
     "data": {
      "text/plain": [
       "0      would thought movi man drive coupl hundr mile ...\n",
       "1      realiz go around us news home whole new world ...\n",
       "2      grew watch origin disney cinderella alway love...\n",
       "3      david mamet wrote screenplay made directori de...\n",
       "4      admit didnt high expect corki romano howev fel...\n",
       "                             ...                        \n",
       "995    ok flick set mexico hitman scott glenn hitch r...\n",
       "996    dont want go rant butthi worst film ive ever s...\n",
       "997    love stori somewher poster said famili like on...\n",
       "998    came nanci drew expect worstbecaus everyon els...\n",
       "999    saw film televis year ago sever year wake morn...\n",
       "Name: Reviews, Length: 1000, dtype: object"
      ]
     },
     "execution_count": 6,
     "metadata": {},
     "output_type": "execute_result"
    }
   ],
   "source": [
    "data = pd.read_excel('test.xlsx', dtype=str)\n",
    "data = data[:1000]\n",
    "data['Reviews'].apply(preprocess_data)"
   ]
  },
  {
   "cell_type": "code",
   "execution_count": 7,
   "id": "83c0098f",
   "metadata": {
    "ExecuteTime": {
     "end_time": "2022-01-25T06:29:48.683803Z",
     "start_time": "2022-01-25T06:29:39.804928Z"
    }
   },
   "outputs": [
    {
     "name": "stdout",
     "output_type": "stream",
     "text": [
      "['neg', 'pos']\n",
      "   neg  pos\n",
      "0  1.0  0.0\n",
      "1  1.0  0.0\n",
      "2  1.0  0.0\n",
      "3  1.0  0.0\n",
      "4  1.0  0.0\n",
      "['neg', 'pos']\n",
      "   neg  pos\n",
      "0  0.0  1.0\n",
      "1  0.0  1.0\n",
      "2  1.0  0.0\n",
      "3  0.0  1.0\n",
      "4  1.0  0.0\n",
      "preprocessing train...\n",
      "language: en\n"
     ]
    },
    {
     "data": {
      "text/html": [
       "done."
      ],
      "text/plain": [
       "<IPython.core.display.HTML object>"
      ]
     },
     "metadata": {},
     "output_type": "display_data"
    },
    {
     "name": "stdout",
     "output_type": "stream",
     "text": [
      "Is Multi-Label? False\n",
      "preprocessing test...\n",
      "language: en\n"
     ]
    },
    {
     "data": {
      "text/html": [
       "done."
      ],
      "text/plain": [
       "<IPython.core.display.HTML object>"
      ]
     },
     "metadata": {},
     "output_type": "display_data"
    }
   ],
   "source": [
    "(X_train, y_train), (X_test, y_test), preprocess = text.texts_from_df(train_df=df,\n",
    "                                                                      text_column='Reviews',\n",
    "                                                                      label_columns = 'Sentiment',\n",
    "                                                                      val_df=data,\n",
    "                                                                      maxlen=400,\n",
    "                                                                      preprocess_mode='bert')\n",
    "\n",
    "# 500 will take 3-4 hour\n",
    "# 400 will take 1-2 hour"
   ]
  },
  {
   "cell_type": "code",
   "execution_count": 8,
   "id": "786e86d8",
   "metadata": {
    "ExecuteTime": {
     "end_time": "2022-01-25T06:29:48.699814Z",
     "start_time": "2022-01-25T06:29:48.685804Z"
    }
   },
   "outputs": [
    {
     "data": {
      "text/plain": [
       "((1000, 400), (1000, 400))"
      ]
     },
     "execution_count": 8,
     "metadata": {},
     "output_type": "execute_result"
    }
   ],
   "source": [
    "X_train[0].shape, X_test[0].shape"
   ]
  },
  {
   "cell_type": "code",
   "execution_count": 9,
   "id": "f1a8a2eb",
   "metadata": {
    "ExecuteTime": {
     "end_time": "2022-01-25T06:30:01.469627Z",
     "start_time": "2022-01-25T06:29:48.701795Z"
    }
   },
   "outputs": [
    {
     "name": "stdout",
     "output_type": "stream",
     "text": [
      "Is Multi-Label? False\n",
      "maxlen is 400\n",
      "done.\n"
     ]
    }
   ],
   "source": [
    "model = text.text_classifier(name='bert',\n",
    "                            train_data=(X_train, y_train),\n",
    "                            preproc=preprocess)"
   ]
  },
  {
   "cell_type": "markdown",
   "id": "11f36657",
   "metadata": {},
   "source": [
    "## Learning Rate"
   ]
  },
  {
   "cell_type": "code",
   "execution_count": 10,
   "id": "fb4a7e22",
   "metadata": {
    "ExecuteTime": {
     "end_time": "2022-01-25T06:30:11.315665Z",
     "start_time": "2022-01-25T06:30:01.470626Z"
    }
   },
   "outputs": [],
   "source": [
    "learner = ktrain.get_learner(model=model,\n",
    "                            train_data=(X_train, y_train),\n",
    "                            val_data=(X_test, y_test),\n",
    "                            batch_size=6)"
   ]
  },
  {
   "cell_type": "code",
   "execution_count": 11,
   "id": "4f470a1e",
   "metadata": {
    "ExecuteTime": {
     "end_time": "2022-01-25T06:30:11.331502Z",
     "start_time": "2022-01-25T06:30:11.321486Z"
    }
   },
   "outputs": [],
   "source": [
    "# these might take days\n",
    "\n",
    "# learner.lr_find()\n",
    "# learner.lr_plot()\n",
    "\n",
    "# optimal learning rate"
   ]
  },
  {
   "cell_type": "code",
   "execution_count": null,
   "id": "f3dc6dc1",
   "metadata": {
    "ExecuteTime": {
     "start_time": "2022-01-25T06:28:17.006Z"
    }
   },
   "outputs": [
    {
     "name": "stdout",
     "output_type": "stream",
     "text": [
      "\n",
      "\n",
      "begin training using onecycle policy with max lr of 2e-05...\n"
     ]
    }
   ],
   "source": [
    "learner.fit_onecycle(lr=2e-5, epochs=1)"
   ]
  },
  {
   "cell_type": "markdown",
   "id": "4d242d66",
   "metadata": {},
   "source": [
    "# Prediction"
   ]
  },
  {
   "cell_type": "code",
   "execution_count": null,
   "id": "427280fe",
   "metadata": {
    "ExecuteTime": {
     "start_time": "2022-01-25T06:28:17.008Z"
    }
   },
   "outputs": [],
   "source": [
    "predictor = ktrain.get_predictor(learner.model, preprocess)"
   ]
  },
  {
   "cell_type": "code",
   "execution_count": null,
   "id": "9fc1baf6",
   "metadata": {},
   "outputs": [],
   "source": [
    "prediction = ['this movie sucks']\n",
    "predictor.predict(prediction)"
   ]
  }
 ],
 "metadata": {
  "kernelspec": {
   "display_name": "Python 3",
   "language": "python",
   "name": "python3"
  },
  "language_info": {
   "codemirror_mode": {
    "name": "ipython",
    "version": 3
   },
   "file_extension": ".py",
   "mimetype": "text/x-python",
   "name": "python",
   "nbconvert_exporter": "python",
   "pygments_lexer": "ipython3",
   "version": "3.8.8"
  }
 },
 "nbformat": 4,
 "nbformat_minor": 5
}
